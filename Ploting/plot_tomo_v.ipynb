{
 "cells": [
  {
   "cell_type": "code",
   "execution_count": 1,
   "metadata": {
    "collapsed": true
   },
   "outputs": [],
   "source": [
    "from mpl_toolkits.basemap import Basemap\n",
    "import matplotlib.pyplot as plt\n",
    "import pandas as pd\n",
    "import glob\n",
    "from matplotlib.colors import LinearSegmentedColormap\n",
    "from matplotlib.patches import Path, PathPatch\n",
    "import numpy as np\n",
    "from numba import jit\n",
    "import matplotlib.mlab as ml"
   ]
  },
  {
   "cell_type": "code",
   "execution_count": 2,
   "metadata": {
    "collapsed": true
   },
   "outputs": [],
   "source": [
    "from cpt_convert import loadCPT # Import the CPT convert function\n",
    "from matplotlib.colors import LinearSegmentedColormap # Linear interpolation for color maps\n",
    "cpt = loadCPT('dv_anom.cpt')\n",
    "cpt_convert = LinearSegmentedColormap('cpt', cpt)"
   ]
  },
  {
   "cell_type": "code",
   "execution_count": 14,
   "metadata": {},
   "outputs": [
    {
     "data": {
      "image/png": "[encoded data removed]",
      "text/plain": [
       "<Figure size 720x288 with 1 Axes>"
      ]
     },
     "metadata": {},
     "output_type": "display_data"
    }
   ],
   "source": [
    "i = str(1)\n",
    "model = \"BOARD_N2\"\n",
    "df = pd.read_csv(\"../\" + model + \"/vert/ver_15 \" + i + \".xyz\",\n",
    "                 delim_whitespace=True,\n",
    "                 names = [\"x\",\"y\",\"v\"])\n",
    "# df_eq = pd.read_csv(\"../MODEL_10/vert/ztr_ \" + i + \".dat\",\n",
    "#                    delim_whitespace = True,\n",
    "#                    names = [\"x\",\"y\",\"p\"])\n",
    "# df_st = pd.read_csv(\"../MODEL_10/vert/stat_ \" + i + \".dat\",\n",
    "#                    delim_whitespace = True,\n",
    "#                    names = [\"x\",\"y\"])\n",
    "\n",
    "df = df[(df['v'] > -20) & (df['v'] < 20)]\n",
    "df.v[df.v <= -10] = -9.9\n",
    "df.v[df.v >= 10] = 9.9\n",
    "x=np.array(df['x']) \n",
    "y=np.array(df['y']) \n",
    "data=np.array(df[\"v\"])\n",
    "plt.figure(figsize=(10,4))\n",
    "plt.tricontourf(x,y+6,data,\n",
    "                cmap = cpt_convert,\n",
    "                levels=np.linspace(-10,10,50)\n",
    "               )\n",
    "# plt.scatter(df_eq.x,df_eq.y,c=\"k\",s=5)\n",
    "# plt.scatter(df_st.x,df_st.y,c=\"k\",s=30,marker=\"s\")\n",
    "plt.ylim(-100,5)\n",
    "plt.xlim(-5,450)\n",
    "plt.show()"
   ]
  },
  {
   "cell_type": "code",
   "execution_count": null,
   "metadata": {
    "collapsed": true
   },
   "outputs": [],
   "source": []
  }
 ],
 "metadata": {
  "kernelspec": {
   "display_name": "Python [default]",
   "language": "python",
   "name": "python3"
  },
  "language_info": {
   "codemirror_mode": {
    "name": "ipython",
    "version": 3
   },
   "file_extension": ".py",
   "mimetype": "text/x-python",
   "name": "python",
   "nbconvert_exporter": "python",
   "pygments_lexer": "ipython3",
   "version": "3.6.6"
  }
 },
 "nbformat": 4,
 "nbformat_minor": 2
}
