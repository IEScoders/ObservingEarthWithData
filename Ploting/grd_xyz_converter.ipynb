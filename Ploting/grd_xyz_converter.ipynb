{
 "cells": [
  {
   "cell_type": "code",
   "execution_count": 1,
   "metadata": {
    "collapsed": true
   },
   "outputs": [],
   "source": [
    "import re\n",
    "import numpy as np\n",
    "from glob import glob"
   ]
  },
  {
   "cell_type": "code",
   "execution_count": 9,
   "metadata": {
    "collapsed": true
   },
   "outputs": [],
   "source": [
    "def convert_grd(fo,fn):\n",
    "    !rm -rf \"$fn\"\n",
    "    f = open(fo)\n",
    "    data = f.readlines()\n",
    "    z = []\n",
    "    k = data[5:]\n",
    "    for i in k:\n",
    "        a = i.split('\\n')\n",
    "        m = re.split('\\s+', a[0])\n",
    "        for n in m:\n",
    "            try:\n",
    "                z.append(float(n))\n",
    "            except:\n",
    "                pass\n",
    "    h = data[0:5]\n",
    "    dx = float(h[1].split()[0])\n",
    "    dy = float(h[1].split()[1])\n",
    "    x1 = float(h[2].split()[0])\n",
    "    x2 = float(h[2].split()[1])\n",
    "    y1 = float(h[3].split()[0])\n",
    "    y2 = float(h[3].split()[1])        \n",
    "    x = np.arange(x1,x2,(x2-x1)/dx)\n",
    "    y = np.arange(y1,y2,(y2-y1)/dy)\n",
    "    i = 0\n",
    "    for yi in y:\n",
    "        for xi in x:\n",
    "            print(xi,yi,z[i], file = open(fn,\"a\"))\n",
    "            i += 1\n",
    "    print(x1,x2,y1,y2,dx,dy,i)\n",
    "    f.close()\n",
    "    return x,y"
   ]
  },
  {
   "cell_type": "code",
   "execution_count": 8,
   "metadata": {
    "collapsed": true
   },
   "outputs": [],
   "source": [
    "model = \"BOARD_N3\"\n",
    "fl = glob(\"../\" + model + \"/vert/ver_?5*.grd\")\n",
    "fn = []\n",
    "for file in fl:\n",
    "    file_new = file[:-3] + \"xyz\"\n",
    "    fn.append(file_new)"
   ]
  },
  {
   "cell_type": "code",
   "execution_count": 10,
   "metadata": {},
   "outputs": [
    {
     "name": "stdout",
     "output_type": "stream",
     "text": [
      "../BOARD_N3/vert/ver_25 2.grd ../BOARD_N3/vert/ver_25 2.xyz\n",
      "0.0 425.2586 -200.0 4.0 213.0 41.0 8733\n",
      "../BOARD_N3/vert/ver_15 3.grd ../BOARD_N3/vert/ver_15 3.xyz\n",
      "0.0 427.4629 -200.0 4.0 214.0 41.0 8774\n",
      "../BOARD_N3/vert/ver_15 2.grd ../BOARD_N3/vert/ver_15 2.xyz\n",
      "0.0 425.2586 -200.0 4.0 213.0 41.0 8733\n",
      "../BOARD_N3/vert/ver_15 6.grd ../BOARD_N3/vert/ver_15 6.xyz\n",
      "0.0 317.2082 -200.0 4.0 158.0 41.0 6478\n",
      "../BOARD_N3/vert/ver_25 9.grd ../BOARD_N3/vert/ver_25 9.xyz\n",
      "0.0 666.8394 -200.0 4.0 330.0 41.0 13530\n",
      "../BOARD_N3/vert/ver_25 3.grd ../BOARD_N3/vert/ver_25 3.xyz\n",
      "0.0 427.4629 -200.0 4.0 214.0 41.0 8774\n",
      "../BOARD_N3/vert/ver_15 8.grd ../BOARD_N3/vert/ver_15 8.xyz\n",
      "0.0 666.8392 -200.0 4.0 330.0 41.0 13530\n",
      "../BOARD_N3/vert/ver_15 5.grd ../BOARD_N3/vert/ver_15 5.xyz\n",
      "0.0 431.4802 -200.0 4.0 215.0 41.0 8815\n",
      "../BOARD_N3/vert/ver_15 7.grd ../BOARD_N3/vert/ver_15 7.xyz\n",
      "0.0 666.8394 -200.0 4.0 331.0 41.0 13571\n",
      "../BOARD_N3/vert/ver_25 7.grd ../BOARD_N3/vert/ver_25 7.xyz\n",
      "0.0 666.8394 -200.0 4.0 331.0 41.0 13571\n",
      "../BOARD_N3/vert/ver_25 8.grd ../BOARD_N3/vert/ver_25 8.xyz\n",
      "0.0 666.8392 -200.0 4.0 330.0 41.0 13530\n",
      "../BOARD_N3/vert/ver_25 4.grd ../BOARD_N3/vert/ver_25 4.xyz\n",
      "0.0 429.5369 -200.0 4.0 215.0 41.0 8815\n",
      "../BOARD_N3/vert/ver_15 4.grd ../BOARD_N3/vert/ver_15 4.xyz\n",
      "0.0 429.5369 -200.0 4.0 215.0 41.0 8815\n",
      "../BOARD_N3/vert/ver_25 6.grd ../BOARD_N3/vert/ver_25 6.xyz\n",
      "0.0 317.2082 -200.0 4.0 158.0 41.0 6478\n",
      "../BOARD_N3/vert/ver_25 5.grd ../BOARD_N3/vert/ver_25 5.xyz\n",
      "0.0 431.4802 -200.0 4.0 215.0 41.0 8815\n",
      "../BOARD_N3/vert/ver_25 1.grd ../BOARD_N3/vert/ver_25 1.xyz\n",
      "0.0 422.9247 -200.0 4.0 212.0 41.0 8692\n",
      "../BOARD_N3/vert/ver_15 1.grd ../BOARD_N3/vert/ver_15 1.xyz\n",
      "0.0 422.9247 -200.0 4.0 212.0 41.0 8692\n",
      "../BOARD_N3/vert/ver_15 9.grd ../BOARD_N3/vert/ver_15 9.xyz\n",
      "0.0 666.8394 -200.0 4.0 330.0 41.0 13530\n"
     ]
    }
   ],
   "source": [
    "for fo, fxyz in zip(fl,fn):\n",
    "    print(fo,fxyz)\n",
    "    convert_grd(fo,fxyz)    "
   ]
  },
  {
   "cell_type": "code",
   "execution_count": null,
   "metadata": {
    "collapsed": true
   },
   "outputs": [],
   "source": []
  }
 ],
 "metadata": {
  "kernelspec": {
   "display_name": "Python [default]",
   "language": "python",
   "name": "python3"
  },
  "language_info": {
   "codemirror_mode": {
    "name": "ipython",
    "version": 3
   },
   "file_extension": ".py",
   "mimetype": "text/x-python",
   "name": "python",
   "nbconvert_exporter": "python",
   "pygments_lexer": "ipython3",
   "version": "3.6.6"
  }
 },
 "nbformat": 4,
 "nbformat_minor": 2
}
